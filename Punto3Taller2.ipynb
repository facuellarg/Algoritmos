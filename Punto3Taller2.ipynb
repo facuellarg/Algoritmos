{
 "cells": [
  {
   "cell_type": "markdown",
   "metadata": {},
   "source": [
    "\n",
    "Se importan las librerias que se usaran:"
   ]
  },
  {
   "cell_type": "code",
   "execution_count": 3,
   "metadata": {},
   "outputs": [],
   "source": [
    "%matplotlib inline\n",
    "import numpy as np\n",
    "import matplotlib.pyplot as plt\n",
    "import time"
   ]
  },
  {
   "cell_type": "markdown",
   "metadata": {},
   "source": [
    "Se hace el código principal, acá se determinará el tiempo por instrucción"
   ]
  },
  {
   "cell_type": "code",
   "execution_count": 4,
   "metadata": {},
   "outputs": [],
   "source": [
    "n=2 #desde matrices n=2\n",
    "T=np.zeros(100)#inicializamos arreglos\n",
    "N=np.zeros(100)\n",
    "while(n<100): #hasta matrices n 99\n",
    "    A=np.ones((n,n))\n",
    "    B=np.ones((n,n))\n",
    "    C=np.zeros((n,n))   \n",
    "    for i in range(0,n):\n",
    "        for j in range(0,n):\n",
    "            B[i,j]=2     \n",
    "    p=time.time()\n",
    "    for k in range(0,n):\n",
    "        for l in range(0,n):\n",
    "            for m in range(0,n):\n",
    "                C[k,l]+=A[k,m]+B[m,l]\n",
    "    p2=time.time()\n",
    "    N[n]=n\n",
    "    T[n]=(p2-p)/(n*n)\n",
    "    n+=1"
   ]
  },
  {
   "cell_type": "markdown",
   "metadata": {},
   "source": [
    "imprimimos usando la libreria matplotlib"
   ]
  },
  {
   "cell_type": "code",
   "execution_count": 5,
   "metadata": {},
   "outputs": [
    {
     "data": {
      "text/plain": [
       "[<matplotlib.lines.Line2D at 0x7f784dc500f0>]"
      ]
     },
     "execution_count": 5,
     "metadata": {},
     "output_type": "execute_result"
    },
    {
     "data": {
      "image/png": "[encoded data removed]",
      "text/plain": [
       "<Figure size 432x288 with 1 Axes>"
      ]
     },
     "metadata": {},
     "output_type": "display_data"
    }
   ],
   "source": [
    "plt.plot(N,T)"
   ]
  },
  {
   "cell_type": "code",
   "execution_count": null,
   "metadata": {},
   "outputs": [],
   "source": []
  }
 ],
 "metadata": {
  "kernelspec": {
   "display_name": "Python 3",
   "language": "python",
   "name": "python3"
  },
  "language_info": {
   "codemirror_mode": {
    "name": "ipython",
    "version": 3
   },
   "file_extension": ".py",
   "mimetype": "text/x-python",
   "name": "python",
   "nbconvert_exporter": "python",
   "pygments_lexer": "ipython3",
   "version": "3.6.4"
  }
 },
 "nbformat": 4,
 "nbformat_minor": 2
}
