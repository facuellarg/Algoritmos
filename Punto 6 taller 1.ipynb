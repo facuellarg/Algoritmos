{
 "cells": [
  {
   "cell_type": "markdown",
   "metadata": {},
   "source": [
    "Codigo de permutaciones punto 6 taller 1\n",
    "Importamos las librerias necesarias"
   ]
  },
  {
   "cell_type": "code",
   "execution_count": 3,
   "metadata": {},
   "outputs": [],
   "source": [
    "import numpy as np    \n",
    "import itertools      \n",
    "import random"
   ]
  },
  {
   "cell_type": "markdown",
   "metadata": {},
   "source": [
    "se crea el arreglo de tamaño"
   ]
  },
  {
   "cell_type": "code",
   "execution_count": 4,
   "metadata": {},
   "outputs": [
    {
     "name": "stdout",
     "output_type": "stream",
     "text": [
      "Ingrese tamaño del arreglo a ordenar: 6\n"
     ]
    }
   ],
   "source": [
    "n=int(input(\"Ingrese tamaño del arreglo a ordenar: \"))\n",
    "p=np.ones([n])\n",
    "val=0\n",
    "while(val<n):\n",
    "    p[val]=val  \n",
    "    val+=1"
   ]
  },
  {
   "cell_type": "markdown",
   "metadata": {},
   "source": [
    "se hace n factorial: n!=m... Se utiliza para las comparaciones e intercambios:"
   ]
  },
  {
   "cell_type": "code",
   "execution_count": 5,
   "metadata": {},
   "outputs": [],
   "source": [
    "h=1\n",
    "m=1\n",
    "while (h<n+1):\n",
    "    m*=h\n",
    "    h+=1"
   ]
  },
  {
   "cell_type": "markdown",
   "metadata": {},
   "source": [
    "\n",
    "Acá se generan los arreglos donde se guardarán las comparaciones e intercambios de todas las permutaciones del arreglo p"
   ]
  },
  {
   "cell_type": "code",
   "execution_count": 6,
   "metadata": {},
   "outputs": [],
   "source": [
    "intercambios=np.ones([m+1])\n",
    "comparaciones=np.ones([m+1])"
   ]
  },
  {
   "cell_type": "markdown",
   "metadata": {},
   "source": [
    "\n",
    "A continuación se hará el código principal:"
   ]
  },
  {
   "cell_type": "code",
   "execution_count": 7,
   "metadata": {},
   "outputs": [
    {
     "name": "stdout",
     "output_type": "stream",
     "text": [
      "El arreglo arbitrario es: \n",
      "[3. 5. 0. 2. 4. 1.]\n"
     ]
    }
   ],
   "source": [
    "aux = 0\n",
    "aux2 = 0                    #auxiliar que nos ayuda para imprimir el arreglo aleatorio\n",
    "perm = itertools.permutations(p)     #se hacen todas las permutaciones del arreglo\n",
    "x=random.randint(0,m)    #genera el numero aleatorio entre 0 y m\n",
    "for i in perm:\n",
    "    i=np.array(i)   # aca se cambia de tuplas a arreglos numpy\n",
    "    aux+=1\n",
    "    if(x==aux2):\n",
    "        print(\"El arreglo creado es : \")\n",
    "        print(i)  # se imprime el arreglo aleatorio\n",
    "    aux2+=1\n",
    "    c=0\n",
    "    cc=0\n",
    "    intercambios[aux]=0\n",
    "    comparaciones[aux]=0\n",
    "    for j in range(0, len(i)):\n",
    "        y = i[j]\n",
    "        k = j - 1             \n",
    "        cc+=1                #aca se hacen comparaciones sin intercambios\n",
    "        comparaciones[aux]=cc\n",
    "        while (k >= 0 and i[k] > y):\n",
    "            i[k + 1] = i[k]\n",
    "            k = k - 1\n",
    "            i[k+1] = y\n",
    "            c+=1\n",
    "            intercambios[aux]=c #aca se hacen los intercambios\n",
    "            cc+=1\n",
    "            comparaciones[aux]=cc #aca se hacen comparaciones con intercambios"
   ]
  },
  {
   "cell_type": "markdown",
   "metadata": {},
   "source": [
    "Se imprime el numero de comparaciones, intercambios e instrucciones para el arreglo arbitrario:"
   ]
  },
  {
   "cell_type": "code",
   "execution_count": 8,
   "metadata": {},
   "outputs": [
    {
     "name": "stdout",
     "output_type": "stream",
     "text": [
      "El numero de comparaciones es: \n",
      "15.0\n",
      "El numero de intercambios es: \n",
      "9.0\n",
      "El numero de instrucciones es: \n",
      "24.0\n"
     ]
    }
   ],
   "source": [
    "print(\"El numero de comparaciones es: \")\n",
    "print(comparaciones[x+1])\n",
    "print(\"El numero de intercambios es: \")\n",
    "print(intercambios[x+1])\n",
    "print(\"El numero de instrucciones es: \")\n",
    "print(comparaciones[x+1]+intercambios[x+1])"
   ]
  },
  {
   "cell_type": "markdown",
   "metadata": {},
   "source": []
  }
 ],
 "metadata": {
  "kernelspec": {
   "display_name": "Python 3",
   "language": "python",
   "name": "python3"
  },
  "language_info": {
   "codemirror_mode": {
    "name": "ipython",
    "version": 3
   },
   "file_extension": ".py",
   "mimetype": "text/x-python",
   "name": "python",
   "nbconvert_exporter": "python",
   "pygments_lexer": "ipython3",
   "version": "3.6.4"
  }
 },
 "nbformat": 4,
 "nbformat_minor": 2
}
