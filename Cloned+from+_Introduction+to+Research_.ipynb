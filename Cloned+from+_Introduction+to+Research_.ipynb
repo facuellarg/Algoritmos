{
 "cells": [
  {
   "cell_type": "markdown",
   "metadata": {},
   "source": [
    "#Introduction to the Research Environment\n",
    "\n",
    "The research environment is powered by IPython notebooks, which allow one to perform a great deal of data analysis and statistical validation. We'll demonstrate a few simple techniques here."
   ]
  },
  {
   "cell_type": "markdown",
   "metadata": {},
   "source": [
    "##Code Cells vs. Text Cells\n",
    "\n",
    "As you can see, each cell can be either code or text. To select between them, choose from the 'Cell Type' dropdown menu on the top left."
   ]
  },
  {
   "cell_type": "markdown",
   "metadata": {},
   "source": [
    "##Executing a Command\n",
    "\n",
    "A code cell will be evaluated when you press play, or when you press the shortcut, -enter. Evaluating a cell evaluates each line of code in sequence, and prints the results of the last line below the cell."
   ]
  },
  {
   "cell_type": "code",
   "execution_count": 1,
   "metadata": {
    "collapsed": false
   },
   "outputs": [
    {
     "data": {
      "text/plain": [
       "8"
      ]
     },
     "execution_count": 1,
     "metadata": {},
     "output_type": "execute_result"
    }
   ],
   "source": [
    "4+4"
   ]
  },
  {
   "cell_type": "code",
   "execution_count": 2,
   "metadata": {
    "collapsed": false
   },
   "outputs": [
    {
     "ename": "SyntaxError",
     "evalue": "invalid syntax (<ipython-input-2-62bc096bc7b2>, line 2)",
     "output_type": "error",
     "traceback": [
      "\u001b[0;36m  File \u001b[0;32m\"<ipython-input-2-62bc096bc7b2>\"\u001b[0;36m, line \u001b[0;32m2\u001b[0m\n\u001b[0;31m    - Add formatted text to your notebooks using Markdown cells\u001b[0m\n\u001b[0m                  ^\u001b[0m\n\u001b[0;31mSyntaxError\u001b[0m\u001b[0;31m:\u001b[0m invalid syntax\n"
     ]
    }
   ],
   "source": [
    "# This is a 'Markdown' cell\n",
    "- Add formatted text to your notebooks using Markdown cells \n",
    "- You can change any cell into a Markdown cell using the Cell Type dropdown in the toolbar"
   ]
  },
  {
   "cell_type": "code",
   "execution_count": 2,
   "metadata": {
    "collapsed": false
   },
   "outputs": [
    {
     "name": "stdout",
     "output_type": "stream",
     "text": [
      "This is number 0\n",
      "This is number 1\n",
      "This is number 2\n",
      "This is number 3\n"
     ]
    }
   ],
   "source": [
    "for i in range(0, 4):\n",
    "    print (\"This is number %s\" % i)"
   ]
  },
  {
   "cell_type": "markdown",
   "metadata": {},
   "source": [
    "Sometimes there is no result to be printed, as is the case with assignment."
   ]
  },
  {
   "cell_type": "code",
   "execution_count": 3,
   "metadata": {
    "collapsed": true
   },
   "outputs": [],
   "source": [
    "X = 2"
   ]
  },
  {
   "cell_type": "markdown",
   "metadata": {},
   "source": [
    "Remember that only the result from the last line is printed."
   ]
  },
  {
   "cell_type": "code",
   "execution_count": 4,
   "metadata": {
    "collapsed": false
   },
   "outputs": [
    {
     "data": {
      "text/plain": [
       "6"
      ]
     },
     "execution_count": 4,
     "metadata": {},
     "output_type": "execute_result"
    }
   ],
   "source": [
    "2 + 2\n",
    "3 + 3"
   ]
  },
  {
   "cell_type": "markdown",
   "metadata": {},
   "source": [
    "However, you can print whichever lines you want using the `print` statement."
   ]
  },
  {
   "cell_type": "code",
   "execution_count": 5,
   "metadata": {
    "collapsed": false
   },
   "outputs": [
    {
     "name": "stdout",
     "output_type": "stream",
     "text": [
      "4\n"
     ]
    },
    {
     "data": {
      "text/plain": [
       "6"
      ]
     },
     "execution_count": 5,
     "metadata": {},
     "output_type": "execute_result"
    }
   ],
   "source": [
    "print 2 + 2\n",
    "3 + 3"
   ]
  },
  {
   "cell_type": "markdown",
   "metadata": {},
   "source": [
    "##Knowing When a Cell is Running\n",
    "\n",
    "While a cell is running, a `[*]` will display on the left. When a cell has yet to be executed, `[ ]` will display. When it has been run, a number will display indicating the order in which it was run during the execution of the notebook `[5]`. Try on this cell and note it happening."
   ]
  },
  {
   "cell_type": "code",
   "execution_count": 6,
   "metadata": {
    "collapsed": false
   },
   "outputs": [
    {
     "data": {
      "text/plain": [
       "49999995000000"
      ]
     },
     "execution_count": 6,
     "metadata": {},
     "output_type": "execute_result"
    }
   ],
   "source": [
    "#Take some time to run something\n",
    "c = 0\n",
    "for i in range(10000000):\n",
    "    c = c + i\n",
    "c"
   ]
  },
  {
   "cell_type": "markdown",
   "metadata": {},
   "source": [
    "##Importing Libraries\n",
    "\n",
    "The vast majority of the time, you'll want to use functions from pre-built libraries. You can't import every library on Quantopian due to security issues, but you can import most of the common scientific ones. Here I import numpy and pandas, the two most common and useful libraries in quant finance. I recommend copying this import statement to every new notebook.\n",
    "\n",
    "Notice that you can rename libraries to whatever you want after importing. The `as` statement allows this. Here we use `np` and `pd` as aliases for `numpy` and `pandas`. This is a very common aliasing and will be found in most code snippets around the web. The point behind this is to allow you to type fewer characters when you are frequently accessing these libraries."
   ]
  },
  {
   "cell_type": "code",
   "execution_count": 7,
   "metadata": {
    "collapsed": true
   },
   "outputs": [],
   "source": [
    "import numpy as np\n",
    "import pandas as pd\n",
    "\n",
    "# This is a plotting library for pretty pictures.\n",
    "import matplotlib.pyplot as plt"
   ]
  },
  {
   "cell_type": "markdown",
   "metadata": {},
   "source": [
    "##Tab Autocomplete\n",
    "\n",
    "Pressing tab will give you a list of IPython's best guesses for what you might want to type next. This is incredibly valuable and will save you a lot of time. If there is only one possible option for what you could type next, IPython will fill that in for you. Try pressing tab very frequently, it will seldom fill in anything you don't want, as if there is ambiguity a list will be shown. This is a great way to see what functions are available in a library.\n",
    "\n",
    "Try placing your cursor after the `.` and pressing tab."
   ]
  },
  {
   "cell_type": "code",
   "execution_count": 8,
   "metadata": {
    "collapsed": false
   },
   "outputs": [
    {
     "ename": "SyntaxError",
     "evalue": "invalid syntax (<ipython-input-8-1a778a4e80a5>, line 1)",
     "output_type": "error",
     "traceback": [
      "\u001b[0;36m  File \u001b[0;32m\"<ipython-input-8-1a778a4e80a5>\"\u001b[0;36m, line \u001b[0;32m1\u001b[0m\n\u001b[0;31m    np.random.\u001b[0m\n\u001b[0m              ^\u001b[0m\n\u001b[0;31mSyntaxError\u001b[0m\u001b[0;31m:\u001b[0m invalid syntax\n"
     ]
    }
   ],
   "source": [
    "np.random."
   ]
  },
  {
   "cell_type": "markdown",
   "metadata": {},
   "source": [
    "##Getting Documentation Help\n",
    "\n",
    "Placing a question mark after a function and executing that line of code will give you the documentation IPython has for that function. It's often best to do this in a new cell, as you avoid re-executing other code and running into bugs."
   ]
  },
  {
   "cell_type": "code",
   "execution_count": 9,
   "metadata": {
    "collapsed": true
   },
   "outputs": [],
   "source": [
    "np.random.normal?"
   ]
  },
  {
   "cell_type": "markdown",
   "metadata": {},
   "source": [
    "##Sampling\n",
    "\n",
    "We'll sample some random data using a function from `numpy`."
   ]
  },
  {
   "cell_type": "code",
   "execution_count": 10,
   "metadata": {
    "collapsed": false
   },
   "outputs": [],
   "source": [
    "# Sample 100 points with a mean of 0 and an std of 1. This is a standard normal distribution.\n",
    "X = np.random.normal(0, 1, 100)"
   ]
  },
  {
   "cell_type": "code",
   "execution_count": 11,
   "metadata": {
    "collapsed": false
   },
   "outputs": [
    {
     "data": {
      "text/plain": [
       "array([-1.29130359, -0.80604162,  0.66466472,  0.86983275,  0.17084047,\n",
       "       -0.12894033,  0.82727025,  0.50975483, -1.47579774,  1.03174115,\n",
       "        0.09993426, -1.22736157, -0.8095946 ,  0.2797116 , -0.01459062,\n",
       "        1.3725473 ,  0.75050037, -0.94093828, -1.62444048, -1.20526675,\n",
       "       -1.79578469,  1.33935964,  1.38418777, -0.53740364,  1.30492107,\n",
       "       -0.29394876,  1.31817188, -0.57374534, -0.35243766,  0.20627513,\n",
       "        0.37538725,  0.85282634, -0.27246947,  1.78458733, -0.74307283,\n",
       "       -0.00551155, -0.66513898,  1.15895799,  0.97643815, -0.96545985,\n",
       "        3.07159535,  0.27300258, -0.41901807, -0.63382816,  2.51944006,\n",
       "       -2.21990602,  0.49530831, -1.1904641 ,  0.50340042,  1.07370599,\n",
       "        0.04763298, -0.63279502, -0.65327408,  0.4608094 , -0.9226185 ,\n",
       "       -0.06273864, -0.01694652,  0.23171246, -0.34998428,  0.29062336,\n",
       "       -0.71374387,  1.92314419, -0.07026942,  2.16542588, -0.28626345,\n",
       "        0.01936706, -1.28803294,  0.6035862 ,  0.27148943,  0.17380116,\n",
       "       -0.98185916,  0.61867882, -0.37195412, -1.83382621, -0.46380868,\n",
       "        0.20731832, -0.71883348, -1.38838627,  0.18627113, -2.02559118,\n",
       "       -0.76517306,  0.13714887,  0.01063467,  0.06234413,  0.34373278,\n",
       "       -1.19476704,  0.98417906,  1.32895968,  0.20545005, -3.0563694 ,\n",
       "       -0.55923958,  0.67286906,  0.82483495, -1.39017832,  0.01978429,\n",
       "        0.6270854 ,  0.38160843,  0.85091572,  0.10525697,  0.92898269])"
      ]
     },
     "execution_count": 11,
     "metadata": {},
     "output_type": "execute_result"
    }
   ],
   "source": [
    "X"
   ]
  },
  {
   "cell_type": "markdown",
   "metadata": {},
   "source": [
    "##Plotting\n",
    "\n",
    "We can use the plotting library we imported as follows."
   ]
  },
  {
   "cell_type": "code",
   "execution_count": 12,
   "metadata": {
    "collapsed": false
   },
   "outputs": [
    {
     "data": {
      "text/plain": [
       "[<matplotlib.lines.Line2D at 0x7f64a11aad10>]"
      ]
     },
     "execution_count": 12,
     "metadata": {},
     "output_type": "execute_result"
    },
    {
     "data": {
      "image/png": "[encoded data removed]",
      "text/plain": [
       "<matplotlib.figure.Figure at 0x7f64a0f96d10>"
      ]
     },
     "metadata": {},
     "output_type": "display_data"
    }
   ],
   "source": [
    "plt.plot(X)"
   ]
  },
  {
   "cell_type": "code",
   "execution_count": 13,
   "metadata": {
    "collapsed": true
   },
   "outputs": [],
   "source": [
    "plt.plot?"
   ]
  },
  {
   "cell_type": "markdown",
   "metadata": {},
   "source": [
    "###Squelching Line Output\n",
    "\n",
    "You might have noticed the annoying line of the form `[<matplotlib.lines.Line2D at 0x7f72fdbc1710>]` before the plots. This is because the `.plot` function actually produces output. Sometimes we wish not to display output, we can accomplish this with the semi-colon as follows."
   ]
  },
  {
   "cell_type": "code",
   "execution_count": 4,
   "metadata": {
    "collapsed": false
   },
   "outputs": [
    {
     "ename": "NameError",
     "evalue": "name 'plt' is not defined",
     "output_type": "error",
     "traceback": [
      "\u001b[0;31m\u001b[0m",
      "\u001b[0;31mNameError\u001b[0mTraceback (most recent call last)",
      "\u001b[0;32m<ipython-input-4-3df3c123cb08>\u001b[0m in \u001b[0;36m<module>\u001b[0;34m()\u001b[0m\n\u001b[0;32m----> 1\u001b[0;31m \u001b[0mplt\u001b[0m\u001b[0;34m.\u001b[0m\u001b[0mplot\u001b[0m\u001b[0;34m(\u001b[0m\u001b[0mX\u001b[0m\u001b[0;34m)\u001b[0m\u001b[0;34m;\u001b[0m\u001b[0;34m\u001b[0m\u001b[0m\n\u001b[0m",
      "\u001b[0;31mNameError\u001b[0m: name 'plt' is not defined"
     ]
    }
   ],
   "source": [
    "plt.plot(X);"
   ]
  },
  {
   "cell_type": "markdown",
   "metadata": {},
   "source": [
    "###Adding Axis Labels\n",
    "\n",
    "No self-respecting quant leaves a graph without labeled axes. Here are some commands to help with that."
   ]
  },
  {
   "cell_type": "code",
   "execution_count": 5,
   "metadata": {
    "collapsed": false
   },
   "outputs": [
    {
     "ename": "NameError",
     "evalue": "name 'np' is not defined",
     "output_type": "error",
     "traceback": [
      "\u001b[0;31m\u001b[0m",
      "\u001b[0;31mNameError\u001b[0mTraceback (most recent call last)",
      "\u001b[0;32m<ipython-input-5-0979bf8673af>\u001b[0m in \u001b[0;36m<module>\u001b[0;34m()\u001b[0m\n\u001b[0;32m----> 1\u001b[0;31m \u001b[0mX\u001b[0m \u001b[0;34m=\u001b[0m \u001b[0mnp\u001b[0m\u001b[0;34m.\u001b[0m\u001b[0mrandom\u001b[0m\u001b[0;34m.\u001b[0m\u001b[0mnormal\u001b[0m\u001b[0;34m(\u001b[0m\u001b[0;36m0\u001b[0m\u001b[0;34m,\u001b[0m \u001b[0;36m1\u001b[0m\u001b[0;34m,\u001b[0m \u001b[0;36m100\u001b[0m\u001b[0;34m)\u001b[0m\u001b[0;34m\u001b[0m\u001b[0m\n\u001b[0m\u001b[1;32m      2\u001b[0m \u001b[0mX2\u001b[0m \u001b[0;34m=\u001b[0m \u001b[0mnp\u001b[0m\u001b[0;34m.\u001b[0m\u001b[0mrandom\u001b[0m\u001b[0;34m.\u001b[0m\u001b[0mnormal\u001b[0m\u001b[0;34m(\u001b[0m\u001b[0;36m0\u001b[0m\u001b[0;34m,\u001b[0m \u001b[0;36m1\u001b[0m\u001b[0;34m,\u001b[0m \u001b[0;36m100\u001b[0m\u001b[0;34m)\u001b[0m\u001b[0;34m\u001b[0m\u001b[0m\n\u001b[1;32m      3\u001b[0m \u001b[0mX3\u001b[0m \u001b[0;34m=\u001b[0m \u001b[0mnp\u001b[0m\u001b[0;34m.\u001b[0m\u001b[0mrandom\u001b[0m\u001b[0;34m.\u001b[0m\u001b[0mnormal\u001b[0m\u001b[0;34m(\u001b[0m\u001b[0;36m0\u001b[0m\u001b[0;34m,\u001b[0m \u001b[0;36m1\u001b[0m\u001b[0;34m,\u001b[0m \u001b[0;36m100\u001b[0m\u001b[0;34m)\u001b[0m\u001b[0;34m\u001b[0m\u001b[0m\n\u001b[1;32m      4\u001b[0m \u001b[0;34m\u001b[0m\u001b[0m\n\u001b[1;32m      5\u001b[0m \u001b[0mplt\u001b[0m\u001b[0;34m.\u001b[0m\u001b[0mplot\u001b[0m\u001b[0;34m(\u001b[0m\u001b[0mX\u001b[0m\u001b[0;34m)\u001b[0m\u001b[0;34m;\u001b[0m\u001b[0;34m\u001b[0m\u001b[0m\n",
      "\u001b[0;31mNameError\u001b[0m: name 'np' is not defined"
     ]
    }
   ],
   "source": [
    "X = np.random.normal(0, 1, 100)\n",
    "X2 = np.random.normal(0, 1, 100)\n",
    "X3 = np.random.normal(0, 1, 100)\n",
    "\n",
    "plt.plot(X);\n",
    "plt.plot(X2);\n",
    "plt.plot(X3);\n",
    "plt.xlabel('Time') # The data we generated is unitless, but don't forget units in general.\n",
    "plt.ylabel('Returns')\n",
    "plt.legend(['X', 'X2', 'X3']);"
   ]
  },
  {
   "cell_type": "markdown",
   "metadata": {},
   "source": [
    "##Generating Statistics\n",
    "\n",
    "Let's use `numpy` to take some simple statistics."
   ]
  },
  {
   "cell_type": "code",
   "execution_count": 14,
   "metadata": {
    "collapsed": false
   },
   "outputs": [
    {
     "data": {
      "text/plain": [
       "-0.0004110780517801804"
      ]
     },
     "execution_count": 14,
     "metadata": {},
     "output_type": "execute_result"
    }
   ],
   "source": [
    "np.mean(X)"
   ]
  },
  {
   "cell_type": "code",
   "execution_count": 15,
   "metadata": {
    "collapsed": false
   },
   "outputs": [
    {
     "data": {
      "text/plain": [
       "1.0305132860442268"
      ]
     },
     "execution_count": 15,
     "metadata": {},
     "output_type": "execute_result"
    }
   ],
   "source": [
    "np.std(X)"
   ]
  },
  {
   "cell_type": "markdown",
   "metadata": {},
   "source": [
    "##Getting Real Pricing Data\n",
    "\n",
    "Randomly sampled data can be great for testing ideas, but let's get some real data. We can use `get_pricing` to do that. You can use the `?` syntax as discussed above to get more information on `get_pricing`'s arguments."
   ]
  },
  {
   "cell_type": "code",
   "execution_count": 16,
   "metadata": {
    "collapsed": false
   },
   "outputs": [],
   "source": [
    "data = get_pricing('MSFT', start_date='2012-1-1', end_date='2018-1-1')"
   ]
  },
  {
   "cell_type": "markdown",
   "metadata": {},
   "source": [
    "Our data is now a dataframe. You can see the datetime index and the colums with different pricing data."
   ]
  },
  {
   "cell_type": "code",
   "execution_count": 9,
   "metadata": {
    "collapsed": false
   },
   "outputs": [
    {
     "data": {
      "text/html": [
       "<div>\n",
       "<table border=\"1\" class=\"dataframe\">\n",
       "  <thead>\n",
       "    <tr style=\"text-align: right;\">\n",
       "      <th></th>\n",
       "      <th>open_price</th>\n",
       "      <th>high</th>\n",
       "      <th>low</th>\n",
       "      <th>close_price</th>\n",
       "      <th>volume</th>\n",
       "      <th>price</th>\n",
       "    </tr>\n",
       "  </thead>\n",
       "  <tbody>\n",
       "    <tr>\n",
       "      <th>2012-01-03 00:00:00+00:00</th>\n",
       "      <td>22.608</td>\n",
       "      <td>22.957</td>\n",
       "      <td>22.472</td>\n",
       "      <td>22.846</td>\n",
       "      <td>60891291.0</td>\n",
       "      <td>22.846</td>\n",
       "    </tr>\n",
       "    <tr>\n",
       "      <th>2012-01-04 00:00:00+00:00</th>\n",
       "      <td>22.837</td>\n",
       "      <td>23.391</td>\n",
       "      <td>22.804</td>\n",
       "      <td>23.323</td>\n",
       "      <td>76534029.0</td>\n",
       "      <td>23.323</td>\n",
       "    </tr>\n",
       "    <tr>\n",
       "      <th>2012-01-05 00:00:00+00:00</th>\n",
       "      <td>23.315</td>\n",
       "      <td>23.611</td>\n",
       "      <td>23.238</td>\n",
       "      <td>23.562</td>\n",
       "      <td>53479335.0</td>\n",
       "      <td>23.562</td>\n",
       "    </tr>\n",
       "    <tr>\n",
       "      <th>2012-01-06 00:00:00+00:00</th>\n",
       "      <td>23.443</td>\n",
       "      <td>24.005</td>\n",
       "      <td>23.438</td>\n",
       "      <td>23.945</td>\n",
       "      <td>91671771.0</td>\n",
       "      <td>23.945</td>\n",
       "    </tr>\n",
       "    <tr>\n",
       "      <th>2012-01-09 00:00:00+00:00</th>\n",
       "      <td>23.885</td>\n",
       "      <td>23.928</td>\n",
       "      <td>23.604</td>\n",
       "      <td>23.621</td>\n",
       "      <td>56352965.0</td>\n",
       "      <td>23.621</td>\n",
       "    </tr>\n",
       "    <tr>\n",
       "      <th>2012-01-10 00:00:00+00:00</th>\n",
       "      <td>23.783</td>\n",
       "      <td>23.970</td>\n",
       "      <td>23.630</td>\n",
       "      <td>23.707</td>\n",
       "      <td>54223945.0</td>\n",
       "      <td>23.707</td>\n",
       "    </tr>\n",
       "    <tr>\n",
       "      <th>2012-01-11 00:00:00+00:00</th>\n",
       "      <td>23.357</td>\n",
       "      <td>23.826</td>\n",
       "      <td>23.306</td>\n",
       "      <td>23.604</td>\n",
       "      <td>62855941.0</td>\n",
       "      <td>23.604</td>\n",
       "    </tr>\n",
       "    <tr>\n",
       "      <th>2012-01-12 00:00:00+00:00</th>\n",
       "      <td>23.732</td>\n",
       "      <td>23.860</td>\n",
       "      <td>23.540</td>\n",
       "      <td>23.843</td>\n",
       "      <td>46186121.0</td>\n",
       "      <td>23.843</td>\n",
       "    </tr>\n",
       "    <tr>\n",
       "      <th>2012-01-13 00:00:00+00:00</th>\n",
       "      <td>23.783</td>\n",
       "      <td>24.056</td>\n",
       "      <td>23.664</td>\n",
       "      <td>24.056</td>\n",
       "      <td>55326851.0</td>\n",
       "      <td>24.056</td>\n",
       "    </tr>\n",
       "    <tr>\n",
       "      <th>2012-01-17 00:00:00+00:00</th>\n",
       "      <td>24.183</td>\n",
       "      <td>24.396</td>\n",
       "      <td>23.988</td>\n",
       "      <td>24.064</td>\n",
       "      <td>66537766.0</td>\n",
       "      <td>24.064</td>\n",
       "    </tr>\n",
       "    <tr>\n",
       "      <th>2012-01-18 00:00:00+00:00</th>\n",
       "      <td>24.107</td>\n",
       "      <td>24.183</td>\n",
       "      <td>23.817</td>\n",
       "      <td>24.039</td>\n",
       "      <td>60912302.0</td>\n",
       "      <td>24.039</td>\n",
       "    </tr>\n",
       "    <tr>\n",
       "      <th>2012-01-19 00:00:00+00:00</th>\n",
       "      <td>23.979</td>\n",
       "      <td>24.213</td>\n",
       "      <td>23.868</td>\n",
       "      <td>23.953</td>\n",
       "      <td>66169544.0</td>\n",
       "      <td>23.953</td>\n",
       "    </tr>\n",
       "    <tr>\n",
       "      <th>2012-01-20 00:00:00+00:00</th>\n",
       "      <td>24.541</td>\n",
       "      <td>25.324</td>\n",
       "      <td>24.481</td>\n",
       "      <td>25.299</td>\n",
       "      <td>157989713.0</td>\n",
       "      <td>25.299</td>\n",
       "    </tr>\n",
       "    <tr>\n",
       "      <th>2012-01-23 00:00:00+00:00</th>\n",
       "      <td>25.163</td>\n",
       "      <td>25.503</td>\n",
       "      <td>24.992</td>\n",
       "      <td>25.316</td>\n",
       "      <td>70185739.0</td>\n",
       "      <td>25.316</td>\n",
       "    </tr>\n",
       "    <tr>\n",
       "      <th>2012-01-24 00:00:00+00:00</th>\n",
       "      <td>25.094</td>\n",
       "      <td>25.180</td>\n",
       "      <td>24.848</td>\n",
       "      <td>24.984</td>\n",
       "      <td>48606276.0</td>\n",
       "      <td>24.984</td>\n",
       "    </tr>\n",
       "    <tr>\n",
       "      <th>2012-01-25 00:00:00+00:00</th>\n",
       "      <td>24.754</td>\n",
       "      <td>25.248</td>\n",
       "      <td>24.754</td>\n",
       "      <td>25.180</td>\n",
       "      <td>55871304.0</td>\n",
       "      <td>25.180</td>\n",
       "    </tr>\n",
       "    <tr>\n",
       "      <th>2012-01-26 00:00:00+00:00</th>\n",
       "      <td>25.214</td>\n",
       "      <td>25.290</td>\n",
       "      <td>25.035</td>\n",
       "      <td>25.129</td>\n",
       "      <td>46229333.0</td>\n",
       "      <td>25.129</td>\n",
       "    </tr>\n",
       "    <tr>\n",
       "      <th>2012-01-27 00:00:00+00:00</th>\n",
       "      <td>25.077</td>\n",
       "      <td>25.146</td>\n",
       "      <td>24.839</td>\n",
       "      <td>24.882</td>\n",
       "      <td>41452599.0</td>\n",
       "      <td>24.882</td>\n",
       "    </tr>\n",
       "    <tr>\n",
       "      <th>2012-01-30 00:00:00+00:00</th>\n",
       "      <td>24.669</td>\n",
       "      <td>25.222</td>\n",
       "      <td>24.550</td>\n",
       "      <td>25.214</td>\n",
       "      <td>46520829.0</td>\n",
       "      <td>25.214</td>\n",
       "    </tr>\n",
       "    <tr>\n",
       "      <th>2012-01-31 00:00:00+00:00</th>\n",
       "      <td>25.256</td>\n",
       "      <td>25.290</td>\n",
       "      <td>24.890</td>\n",
       "      <td>25.154</td>\n",
       "      <td>40812893.0</td>\n",
       "      <td>25.154</td>\n",
       "    </tr>\n",
       "    <tr>\n",
       "      <th>2012-02-01 00:00:00+00:00</th>\n",
       "      <td>25.367</td>\n",
       "      <td>25.588</td>\n",
       "      <td>25.341</td>\n",
       "      <td>25.452</td>\n",
       "      <td>64067228.0</td>\n",
       "      <td>25.452</td>\n",
       "    </tr>\n",
       "    <tr>\n",
       "      <th>2012-02-02 00:00:00+00:00</th>\n",
       "      <td>25.461</td>\n",
       "      <td>25.691</td>\n",
       "      <td>25.299</td>\n",
       "      <td>25.499</td>\n",
       "      <td>49959760.0</td>\n",
       "      <td>25.499</td>\n",
       "    </tr>\n",
       "    <tr>\n",
       "      <th>2012-02-03 00:00:00+00:00</th>\n",
       "      <td>25.665</td>\n",
       "      <td>25.886</td>\n",
       "      <td>25.622</td>\n",
       "      <td>25.733</td>\n",
       "      <td>38728694.0</td>\n",
       "      <td>25.733</td>\n",
       "    </tr>\n",
       "    <tr>\n",
       "      <th>2012-02-06 00:00:00+00:00</th>\n",
       "      <td>25.580</td>\n",
       "      <td>25.733</td>\n",
       "      <td>25.520</td>\n",
       "      <td>25.716</td>\n",
       "      <td>26067704.0</td>\n",
       "      <td>25.716</td>\n",
       "    </tr>\n",
       "    <tr>\n",
       "      <th>2012-02-07 00:00:00+00:00</th>\n",
       "      <td>25.674</td>\n",
       "      <td>25.959</td>\n",
       "      <td>25.588</td>\n",
       "      <td>25.852</td>\n",
       "      <td>36751791.0</td>\n",
       "      <td>25.852</td>\n",
       "    </tr>\n",
       "    <tr>\n",
       "      <th>2012-02-08 00:00:00+00:00</th>\n",
       "      <td>25.767</td>\n",
       "      <td>26.116</td>\n",
       "      <td>25.733</td>\n",
       "      <td>26.108</td>\n",
       "      <td>47382414.0</td>\n",
       "      <td>26.108</td>\n",
       "    </tr>\n",
       "    <tr>\n",
       "      <th>2012-02-09 00:00:00+00:00</th>\n",
       "      <td>26.125</td>\n",
       "      <td>26.227</td>\n",
       "      <td>25.955</td>\n",
       "      <td>26.201</td>\n",
       "      <td>45580004.0</td>\n",
       "      <td>26.201</td>\n",
       "    </tr>\n",
       "    <tr>\n",
       "      <th>2012-02-10 00:00:00+00:00</th>\n",
       "      <td>26.091</td>\n",
       "      <td>26.227</td>\n",
       "      <td>25.852</td>\n",
       "      <td>25.950</td>\n",
       "      <td>38526519.0</td>\n",
       "      <td>25.950</td>\n",
       "    </tr>\n",
       "    <tr>\n",
       "      <th>2012-02-13 00:00:00+00:00</th>\n",
       "      <td>26.082</td>\n",
       "      <td>26.201</td>\n",
       "      <td>25.912</td>\n",
       "      <td>26.023</td>\n",
       "      <td>31447419.0</td>\n",
       "      <td>26.023</td>\n",
       "    </tr>\n",
       "    <tr>\n",
       "      <th>2012-02-14 00:00:00+00:00</th>\n",
       "      <td>25.997</td>\n",
       "      <td>26.108</td>\n",
       "      <td>25.586</td>\n",
       "      <td>25.928</td>\n",
       "      <td>50770567.0</td>\n",
       "      <td>25.928</td>\n",
       "    </tr>\n",
       "    <tr>\n",
       "      <th>...</th>\n",
       "      <td>...</td>\n",
       "      <td>...</td>\n",
       "      <td>...</td>\n",
       "      <td>...</td>\n",
       "      <td>...</td>\n",
       "      <td>...</td>\n",
       "    </tr>\n",
       "    <tr>\n",
       "      <th>2017-11-16 00:00:00+00:00</th>\n",
       "      <td>83.100</td>\n",
       "      <td>83.420</td>\n",
       "      <td>82.940</td>\n",
       "      <td>83.190</td>\n",
       "      <td>16198016.0</td>\n",
       "      <td>83.190</td>\n",
       "    </tr>\n",
       "    <tr>\n",
       "      <th>2017-11-17 00:00:00+00:00</th>\n",
       "      <td>83.120</td>\n",
       "      <td>83.120</td>\n",
       "      <td>82.240</td>\n",
       "      <td>82.370</td>\n",
       "      <td>17427406.0</td>\n",
       "      <td>82.370</td>\n",
       "    </tr>\n",
       "    <tr>\n",
       "      <th>2017-11-20 00:00:00+00:00</th>\n",
       "      <td>82.400</td>\n",
       "      <td>82.590</td>\n",
       "      <td>82.250</td>\n",
       "      <td>82.540</td>\n",
       "      <td>11458377.0</td>\n",
       "      <td>82.540</td>\n",
       "    </tr>\n",
       "    <tr>\n",
       "      <th>2017-11-21 00:00:00+00:00</th>\n",
       "      <td>82.740</td>\n",
       "      <td>83.840</td>\n",
       "      <td>82.740</td>\n",
       "      <td>83.730</td>\n",
       "      <td>14281714.0</td>\n",
       "      <td>83.730</td>\n",
       "    </tr>\n",
       "    <tr>\n",
       "      <th>2017-11-22 00:00:00+00:00</th>\n",
       "      <td>83.830</td>\n",
       "      <td>83.900</td>\n",
       "      <td>83.040</td>\n",
       "      <td>83.100</td>\n",
       "      <td>12488234.0</td>\n",
       "      <td>83.100</td>\n",
       "    </tr>\n",
       "    <tr>\n",
       "      <th>2017-11-24 00:00:00+00:00</th>\n",
       "      <td>83.010</td>\n",
       "      <td>83.430</td>\n",
       "      <td>82.780</td>\n",
       "      <td>83.270</td>\n",
       "      <td>5113940.0</td>\n",
       "      <td>83.270</td>\n",
       "    </tr>\n",
       "    <tr>\n",
       "      <th>2017-11-27 00:00:00+00:00</th>\n",
       "      <td>83.310</td>\n",
       "      <td>83.980</td>\n",
       "      <td>83.300</td>\n",
       "      <td>83.860</td>\n",
       "      <td>13338797.0</td>\n",
       "      <td>83.860</td>\n",
       "    </tr>\n",
       "    <tr>\n",
       "      <th>2017-11-28 00:00:00+00:00</th>\n",
       "      <td>84.070</td>\n",
       "      <td>85.060</td>\n",
       "      <td>84.020</td>\n",
       "      <td>84.880</td>\n",
       "      <td>15938330.0</td>\n",
       "      <td>84.880</td>\n",
       "    </tr>\n",
       "    <tr>\n",
       "      <th>2017-11-29 00:00:00+00:00</th>\n",
       "      <td>84.710</td>\n",
       "      <td>84.917</td>\n",
       "      <td>83.175</td>\n",
       "      <td>83.330</td>\n",
       "      <td>21804872.0</td>\n",
       "      <td>83.330</td>\n",
       "    </tr>\n",
       "    <tr>\n",
       "      <th>2017-11-30 00:00:00+00:00</th>\n",
       "      <td>83.510</td>\n",
       "      <td>84.520</td>\n",
       "      <td>83.340</td>\n",
       "      <td>84.100</td>\n",
       "      <td>19968980.0</td>\n",
       "      <td>84.100</td>\n",
       "    </tr>\n",
       "    <tr>\n",
       "      <th>2017-12-01 00:00:00+00:00</th>\n",
       "      <td>83.600</td>\n",
       "      <td>84.810</td>\n",
       "      <td>83.220</td>\n",
       "      <td>84.260</td>\n",
       "      <td>22993261.0</td>\n",
       "      <td>84.260</td>\n",
       "    </tr>\n",
       "    <tr>\n",
       "      <th>2017-12-04 00:00:00+00:00</th>\n",
       "      <td>84.420</td>\n",
       "      <td>84.420</td>\n",
       "      <td>80.700</td>\n",
       "      <td>81.080</td>\n",
       "      <td>31896125.0</td>\n",
       "      <td>81.080</td>\n",
       "    </tr>\n",
       "    <tr>\n",
       "      <th>2017-12-05 00:00:00+00:00</th>\n",
       "      <td>81.340</td>\n",
       "      <td>82.680</td>\n",
       "      <td>80.980</td>\n",
       "      <td>81.590</td>\n",
       "      <td>19991077.0</td>\n",
       "      <td>81.590</td>\n",
       "    </tr>\n",
       "    <tr>\n",
       "      <th>2017-12-06 00:00:00+00:00</th>\n",
       "      <td>81.550</td>\n",
       "      <td>83.140</td>\n",
       "      <td>81.430</td>\n",
       "      <td>82.790</td>\n",
       "      <td>16109181.0</td>\n",
       "      <td>82.790</td>\n",
       "    </tr>\n",
       "    <tr>\n",
       "      <th>2017-12-07 00:00:00+00:00</th>\n",
       "      <td>82.540</td>\n",
       "      <td>82.800</td>\n",
       "      <td>82.000</td>\n",
       "      <td>82.490</td>\n",
       "      <td>15963260.0</td>\n",
       "      <td>82.490</td>\n",
       "    </tr>\n",
       "    <tr>\n",
       "      <th>2017-12-08 00:00:00+00:00</th>\n",
       "      <td>83.630</td>\n",
       "      <td>84.580</td>\n",
       "      <td>83.330</td>\n",
       "      <td>84.160</td>\n",
       "      <td>19414814.0</td>\n",
       "      <td>84.160</td>\n",
       "    </tr>\n",
       "    <tr>\n",
       "      <th>2017-12-11 00:00:00+00:00</th>\n",
       "      <td>84.290</td>\n",
       "      <td>85.370</td>\n",
       "      <td>84.120</td>\n",
       "      <td>85.220</td>\n",
       "      <td>14466119.0</td>\n",
       "      <td>85.220</td>\n",
       "    </tr>\n",
       "    <tr>\n",
       "      <th>2017-12-12 00:00:00+00:00</th>\n",
       "      <td>85.310</td>\n",
       "      <td>86.050</td>\n",
       "      <td>85.080</td>\n",
       "      <td>85.620</td>\n",
       "      <td>17803908.0</td>\n",
       "      <td>85.620</td>\n",
       "    </tr>\n",
       "    <tr>\n",
       "      <th>2017-12-13 00:00:00+00:00</th>\n",
       "      <td>85.740</td>\n",
       "      <td>86.000</td>\n",
       "      <td>85.170</td>\n",
       "      <td>85.350</td>\n",
       "      <td>16782602.0</td>\n",
       "      <td>85.350</td>\n",
       "    </tr>\n",
       "    <tr>\n",
       "      <th>2017-12-14 00:00:00+00:00</th>\n",
       "      <td>85.430</td>\n",
       "      <td>85.870</td>\n",
       "      <td>84.530</td>\n",
       "      <td>84.720</td>\n",
       "      <td>13605834.0</td>\n",
       "      <td>84.720</td>\n",
       "    </tr>\n",
       "    <tr>\n",
       "      <th>2017-12-15 00:00:00+00:00</th>\n",
       "      <td>85.260</td>\n",
       "      <td>87.090</td>\n",
       "      <td>84.880</td>\n",
       "      <td>86.820</td>\n",
       "      <td>33797786.0</td>\n",
       "      <td>86.820</td>\n",
       "    </tr>\n",
       "    <tr>\n",
       "      <th>2017-12-18 00:00:00+00:00</th>\n",
       "      <td>87.120</td>\n",
       "      <td>87.500</td>\n",
       "      <td>86.230</td>\n",
       "      <td>86.430</td>\n",
       "      <td>16400158.0</td>\n",
       "      <td>86.430</td>\n",
       "    </tr>\n",
       "    <tr>\n",
       "      <th>2017-12-19 00:00:00+00:00</th>\n",
       "      <td>86.350</td>\n",
       "      <td>86.350</td>\n",
       "      <td>85.270</td>\n",
       "      <td>85.830</td>\n",
       "      <td>16977241.0</td>\n",
       "      <td>85.830</td>\n",
       "    </tr>\n",
       "    <tr>\n",
       "      <th>2017-12-20 00:00:00+00:00</th>\n",
       "      <td>86.200</td>\n",
       "      <td>86.300</td>\n",
       "      <td>84.710</td>\n",
       "      <td>85.590</td>\n",
       "      <td>15114756.0</td>\n",
       "      <td>85.590</td>\n",
       "    </tr>\n",
       "    <tr>\n",
       "      <th>2017-12-21 00:00:00+00:00</th>\n",
       "      <td>86.050</td>\n",
       "      <td>86.100</td>\n",
       "      <td>85.400</td>\n",
       "      <td>85.570</td>\n",
       "      <td>11191800.0</td>\n",
       "      <td>85.570</td>\n",
       "    </tr>\n",
       "    <tr>\n",
       "      <th>2017-12-22 00:00:00+00:00</th>\n",
       "      <td>85.400</td>\n",
       "      <td>85.630</td>\n",
       "      <td>84.920</td>\n",
       "      <td>85.580</td>\n",
       "      <td>10309676.0</td>\n",
       "      <td>85.580</td>\n",
       "    </tr>\n",
       "    <tr>\n",
       "      <th>2017-12-26 00:00:00+00:00</th>\n",
       "      <td>85.310</td>\n",
       "      <td>85.535</td>\n",
       "      <td>85.030</td>\n",
       "      <td>85.400</td>\n",
       "      <td>7347118.0</td>\n",
       "      <td>85.400</td>\n",
       "    </tr>\n",
       "    <tr>\n",
       "      <th>2017-12-27 00:00:00+00:00</th>\n",
       "      <td>85.650</td>\n",
       "      <td>85.980</td>\n",
       "      <td>85.215</td>\n",
       "      <td>85.700</td>\n",
       "      <td>9685222.0</td>\n",
       "      <td>85.700</td>\n",
       "    </tr>\n",
       "    <tr>\n",
       "      <th>2017-12-28 00:00:00+00:00</th>\n",
       "      <td>85.900</td>\n",
       "      <td>85.930</td>\n",
       "      <td>85.550</td>\n",
       "      <td>85.700</td>\n",
       "      <td>7708547.0</td>\n",
       "      <td>85.700</td>\n",
       "    </tr>\n",
       "    <tr>\n",
       "      <th>2017-12-29 00:00:00+00:00</th>\n",
       "      <td>85.630</td>\n",
       "      <td>86.050</td>\n",
       "      <td>85.500</td>\n",
       "      <td>85.590</td>\n",
       "      <td>11170183.0</td>\n",
       "      <td>85.590</td>\n",
       "    </tr>\n",
       "  </tbody>\n",
       "</table>\n",
       "<p>1509 rows × 6 columns</p>\n",
       "</div>"
      ],
      "text/plain": [
       "                           open_price    high     low  close_price  \\\n",
       "2012-01-03 00:00:00+00:00      22.608  22.957  22.472       22.846   \n",
       "2012-01-04 00:00:00+00:00      22.837  23.391  22.804       23.323   \n",
       "2012-01-05 00:00:00+00:00      23.315  23.611  23.238       23.562   \n",
       "2012-01-06 00:00:00+00:00      23.443  24.005  23.438       23.945   \n",
       "2012-01-09 00:00:00+00:00      23.885  23.928  23.604       23.621   \n",
       "2012-01-10 00:00:00+00:00      23.783  23.970  23.630       23.707   \n",
       "2012-01-11 00:00:00+00:00      23.357  23.826  23.306       23.604   \n",
       "2012-01-12 00:00:00+00:00      23.732  23.860  23.540       23.843   \n",
       "2012-01-13 00:00:00+00:00      23.783  24.056  23.664       24.056   \n",
       "2012-01-17 00:00:00+00:00      24.183  24.396  23.988       24.064   \n",
       "2012-01-18 00:00:00+00:00      24.107  24.183  23.817       24.039   \n",
       "2012-01-19 00:00:00+00:00      23.979  24.213  23.868       23.953   \n",
       "2012-01-20 00:00:00+00:00      24.541  25.324  24.481       25.299   \n",
       "2012-01-23 00:00:00+00:00      25.163  25.503  24.992       25.316   \n",
       "2012-01-24 00:00:00+00:00      25.094  25.180  24.848       24.984   \n",
       "2012-01-25 00:00:00+00:00      24.754  25.248  24.754       25.180   \n",
       "2012-01-26 00:00:00+00:00      25.214  25.290  25.035       25.129   \n",
       "2012-01-27 00:00:00+00:00      25.077  25.146  24.839       24.882   \n",
       "2012-01-30 00:00:00+00:00      24.669  25.222  24.550       25.214   \n",
       "2012-01-31 00:00:00+00:00      25.256  25.290  24.890       25.154   \n",
       "2012-02-01 00:00:00+00:00      25.367  25.588  25.341       25.452   \n",
       "2012-02-02 00:00:00+00:00      25.461  25.691  25.299       25.499   \n",
       "2012-02-03 00:00:00+00:00      25.665  25.886  25.622       25.733   \n",
       "2012-02-06 00:00:00+00:00      25.580  25.733  25.520       25.716   \n",
       "2012-02-07 00:00:00+00:00      25.674  25.959  25.588       25.852   \n",
       "2012-02-08 00:00:00+00:00      25.767  26.116  25.733       26.108   \n",
       "2012-02-09 00:00:00+00:00      26.125  26.227  25.955       26.201   \n",
       "2012-02-10 00:00:00+00:00      26.091  26.227  25.852       25.950   \n",
       "2012-02-13 00:00:00+00:00      26.082  26.201  25.912       26.023   \n",
       "2012-02-14 00:00:00+00:00      25.997  26.108  25.586       25.928   \n",
       "...                               ...     ...     ...          ...   \n",
       "2017-11-16 00:00:00+00:00      83.100  83.420  82.940       83.190   \n",
       "2017-11-17 00:00:00+00:00      83.120  83.120  82.240       82.370   \n",
       "2017-11-20 00:00:00+00:00      82.400  82.590  82.250       82.540   \n",
       "2017-11-21 00:00:00+00:00      82.740  83.840  82.740       83.730   \n",
       "2017-11-22 00:00:00+00:00      83.830  83.900  83.040       83.100   \n",
       "2017-11-24 00:00:00+00:00      83.010  83.430  82.780       83.270   \n",
       "2017-11-27 00:00:00+00:00      83.310  83.980  83.300       83.860   \n",
       "2017-11-28 00:00:00+00:00      84.070  85.060  84.020       84.880   \n",
       "2017-11-29 00:00:00+00:00      84.710  84.917  83.175       83.330   \n",
       "2017-11-30 00:00:00+00:00      83.510  84.520  83.340       84.100   \n",
       "2017-12-01 00:00:00+00:00      83.600  84.810  83.220       84.260   \n",
       "2017-12-04 00:00:00+00:00      84.420  84.420  80.700       81.080   \n",
       "2017-12-05 00:00:00+00:00      81.340  82.680  80.980       81.590   \n",
       "2017-12-06 00:00:00+00:00      81.550  83.140  81.430       82.790   \n",
       "2017-12-07 00:00:00+00:00      82.540  82.800  82.000       82.490   \n",
       "2017-12-08 00:00:00+00:00      83.630  84.580  83.330       84.160   \n",
       "2017-12-11 00:00:00+00:00      84.290  85.370  84.120       85.220   \n",
       "2017-12-12 00:00:00+00:00      85.310  86.050  85.080       85.620   \n",
       "2017-12-13 00:00:00+00:00      85.740  86.000  85.170       85.350   \n",
       "2017-12-14 00:00:00+00:00      85.430  85.870  84.530       84.720   \n",
       "2017-12-15 00:00:00+00:00      85.260  87.090  84.880       86.820   \n",
       "2017-12-18 00:00:00+00:00      87.120  87.500  86.230       86.430   \n",
       "2017-12-19 00:00:00+00:00      86.350  86.350  85.270       85.830   \n",
       "2017-12-20 00:00:00+00:00      86.200  86.300  84.710       85.590   \n",
       "2017-12-21 00:00:00+00:00      86.050  86.100  85.400       85.570   \n",
       "2017-12-22 00:00:00+00:00      85.400  85.630  84.920       85.580   \n",
       "2017-12-26 00:00:00+00:00      85.310  85.535  85.030       85.400   \n",
       "2017-12-27 00:00:00+00:00      85.650  85.980  85.215       85.700   \n",
       "2017-12-28 00:00:00+00:00      85.900  85.930  85.550       85.700   \n",
       "2017-12-29 00:00:00+00:00      85.630  86.050  85.500       85.590   \n",
       "\n",
       "                                volume   price  \n",
       "2012-01-03 00:00:00+00:00   60891291.0  22.846  \n",
       "2012-01-04 00:00:00+00:00   76534029.0  23.323  \n",
       "2012-01-05 00:00:00+00:00   53479335.0  23.562  \n",
       "2012-01-06 00:00:00+00:00   91671771.0  23.945  \n",
       "2012-01-09 00:00:00+00:00   56352965.0  23.621  \n",
       "2012-01-10 00:00:00+00:00   54223945.0  23.707  \n",
       "2012-01-11 00:00:00+00:00   62855941.0  23.604  \n",
       "2012-01-12 00:00:00+00:00   46186121.0  23.843  \n",
       "2012-01-13 00:00:00+00:00   55326851.0  24.056  \n",
       "2012-01-17 00:00:00+00:00   66537766.0  24.064  \n",
       "2012-01-18 00:00:00+00:00   60912302.0  24.039  \n",
       "2012-01-19 00:00:00+00:00   66169544.0  23.953  \n",
       "2012-01-20 00:00:00+00:00  157989713.0  25.299  \n",
       "2012-01-23 00:00:00+00:00   70185739.0  25.316  \n",
       "2012-01-24 00:00:00+00:00   48606276.0  24.984  \n",
       "2012-01-25 00:00:00+00:00   55871304.0  25.180  \n",
       "2012-01-26 00:00:00+00:00   46229333.0  25.129  \n",
       "2012-01-27 00:00:00+00:00   41452599.0  24.882  \n",
       "2012-01-30 00:00:00+00:00   46520829.0  25.214  \n",
       "2012-01-31 00:00:00+00:00   40812893.0  25.154  \n",
       "2012-02-01 00:00:00+00:00   64067228.0  25.452  \n",
       "2012-02-02 00:00:00+00:00   49959760.0  25.499  \n",
       "2012-02-03 00:00:00+00:00   38728694.0  25.733  \n",
       "2012-02-06 00:00:00+00:00   26067704.0  25.716  \n",
       "2012-02-07 00:00:00+00:00   36751791.0  25.852  \n",
       "2012-02-08 00:00:00+00:00   47382414.0  26.108  \n",
       "2012-02-09 00:00:00+00:00   45580004.0  26.201  \n",
       "2012-02-10 00:00:00+00:00   38526519.0  25.950  \n",
       "2012-02-13 00:00:00+00:00   31447419.0  26.023  \n",
       "2012-02-14 00:00:00+00:00   50770567.0  25.928  \n",
       "...                                ...     ...  \n",
       "2017-11-16 00:00:00+00:00   16198016.0  83.190  \n",
       "2017-11-17 00:00:00+00:00   17427406.0  82.370  \n",
       "2017-11-20 00:00:00+00:00   11458377.0  82.540  \n",
       "2017-11-21 00:00:00+00:00   14281714.0  83.730  \n",
       "2017-11-22 00:00:00+00:00   12488234.0  83.100  \n",
       "2017-11-24 00:00:00+00:00    5113940.0  83.270  \n",
       "2017-11-27 00:00:00+00:00   13338797.0  83.860  \n",
       "2017-11-28 00:00:00+00:00   15938330.0  84.880  \n",
       "2017-11-29 00:00:00+00:00   21804872.0  83.330  \n",
       "2017-11-30 00:00:00+00:00   19968980.0  84.100  \n",
       "2017-12-01 00:00:00+00:00   22993261.0  84.260  \n",
       "2017-12-04 00:00:00+00:00   31896125.0  81.080  \n",
       "2017-12-05 00:00:00+00:00   19991077.0  81.590  \n",
       "2017-12-06 00:00:00+00:00   16109181.0  82.790  \n",
       "2017-12-07 00:00:00+00:00   15963260.0  82.490  \n",
       "2017-12-08 00:00:00+00:00   19414814.0  84.160  \n",
       "2017-12-11 00:00:00+00:00   14466119.0  85.220  \n",
       "2017-12-12 00:00:00+00:00   17803908.0  85.620  \n",
       "2017-12-13 00:00:00+00:00   16782602.0  85.350  \n",
       "2017-12-14 00:00:00+00:00   13605834.0  84.720  \n",
       "2017-12-15 00:00:00+00:00   33797786.0  86.820  \n",
       "2017-12-18 00:00:00+00:00   16400158.0  86.430  \n",
       "2017-12-19 00:00:00+00:00   16977241.0  85.830  \n",
       "2017-12-20 00:00:00+00:00   15114756.0  85.590  \n",
       "2017-12-21 00:00:00+00:00   11191800.0  85.570  \n",
       "2017-12-22 00:00:00+00:00   10309676.0  85.580  \n",
       "2017-12-26 00:00:00+00:00    7347118.0  85.400  \n",
       "2017-12-27 00:00:00+00:00    9685222.0  85.700  \n",
       "2017-12-28 00:00:00+00:00    7708547.0  85.700  \n",
       "2017-12-29 00:00:00+00:00   11170183.0  85.590  \n",
       "\n",
       "[1509 rows x 6 columns]"
      ]
     },
     "execution_count": 9,
     "metadata": {},
     "output_type": "execute_result"
    }
   ],
   "source": [
    "data"
   ]
  },
  {
   "cell_type": "markdown",
   "metadata": {},
   "source": [
    "This is a pandas dataframe, so we can index in to just get price like this. For more info on pandas, please [click here](http://pandas.pydata.org/pandas-docs/stable/10min.html)."
   ]
  },
  {
   "cell_type": "code",
   "execution_count": 17,
   "metadata": {
    "collapsed": false
   },
   "outputs": [],
   "source": [
    "X = data['price']"
   ]
  },
  {
   "cell_type": "markdown",
   "metadata": {},
   "source": [
    "Because there is now also date information in our data, we provide two series to `.plot`. `X.index` gives us the datetime index, and `X.values` gives us the pricing values. These are used as the X and Y coordinates to make a graph."
   ]
  },
  {
   "cell_type": "code",
   "execution_count": 18,
   "metadata": {
    "collapsed": false
   },
   "outputs": [
    {
     "data": {
      "image/png": "[encoded data removed]",
      "text/plain": [
       "<matplotlib.figure.Figure at 0x7f6485ede710>"
      ]
     },
     "metadata": {},
     "output_type": "display_data"
    }
   ],
   "source": [
    "plt.plot(X.index, X.values)\n",
    "plt.ylabel('Price')\n",
    "plt.legend(['MSFT']);"
   ]
  },
  {
   "cell_type": "markdown",
   "metadata": {},
   "source": [
    "We can get statistics again on real data."
   ]
  },
  {
   "cell_type": "code",
   "execution_count": 19,
   "metadata": {
    "collapsed": false
   },
   "outputs": [
    {
     "data": {
      "text/plain": [
       "43.68511265738895"
      ]
     },
     "execution_count": 19,
     "metadata": {},
     "output_type": "execute_result"
    }
   ],
   "source": [
    "np.mean(X)"
   ]
  },
  {
   "cell_type": "code",
   "execution_count": 20,
   "metadata": {
    "collapsed": false
   },
   "outputs": [
    {
     "data": {
      "text/plain": [
       "15.983702777071748"
      ]
     },
     "execution_count": 20,
     "metadata": {},
     "output_type": "execute_result"
    }
   ],
   "source": [
    "np.std(X)"
   ]
  },
  {
   "cell_type": "markdown",
   "metadata": {},
   "source": [
    "##Getting Returns from Prices\n",
    "\n",
    "We can use the `pct_change` function to get returns. Notice how we drop the first element after doing this, as it will be `NaN` (nothing -> something results in a NaN percent change)."
   ]
  },
  {
   "cell_type": "code",
   "execution_count": 23,
   "metadata": {
    "collapsed": false
   },
   "outputs": [],
   "source": [
    "R = X.pct_change()[1:]"
   ]
  },
  {
   "cell_type": "markdown",
   "metadata": {},
   "source": [
    "We can plot the returns distribution as a histogram."
   ]
  },
  {
   "cell_type": "code",
   "execution_count": 21,
   "metadata": {
    "collapsed": false
   },
   "outputs": [],
   "source": [
    "plt.hist?"
   ]
  },
  {
   "cell_type": "code",
   "execution_count": 24,
   "metadata": {
    "collapsed": false
   },
   "outputs": [
    {
     "data": {
      "image/png": "[encoded data removed]",
      "text/plain": [
       "<matplotlib.figure.Figure at 0x7f648533cd50>"
      ]
     },
     "metadata": {},
     "output_type": "display_data"
    }
   ],
   "source": [
    "plt.hist(R, bins=20)\n",
    "plt.xlabel('Return')\n",
    "plt.ylabel('Frequency')\n",
    "plt.legend(['MSFT Returns']);"
   ]
  },
  {
   "cell_type": "markdown",
   "metadata": {},
   "source": [
    "Get statistics again."
   ]
  },
  {
   "cell_type": "code",
   "execution_count": 25,
   "metadata": {
    "collapsed": false
   },
   "outputs": [
    {
     "data": {
      "text/plain": [
       "0.0009732185733803189"
      ]
     },
     "execution_count": 25,
     "metadata": {},
     "output_type": "execute_result"
    }
   ],
   "source": [
    "np.mean(R)"
   ]
  },
  {
   "cell_type": "code",
   "execution_count": 26,
   "metadata": {
    "collapsed": false
   },
   "outputs": [
    {
     "data": {
      "text/plain": [
       "0.01393781942117986"
      ]
     },
     "execution_count": 26,
     "metadata": {},
     "output_type": "execute_result"
    }
   ],
   "source": [
    "np.std(R)"
   ]
  },
  {
   "cell_type": "markdown",
   "metadata": {},
   "source": [
    "Now let's go backwards and generate data out of a normal distribution using the statistics we estimated from Microsoft's returns. We'll see that we have good reason to suspect Microsoft's returns may not be normal, as the resulting normal distribution looks far different."
   ]
  },
  {
   "cell_type": "code",
   "execution_count": 27,
   "metadata": {
    "collapsed": false
   },
   "outputs": [
    {
     "data": {
      "image/png": "[encoded data removed]",
      "text/plain": [
       "<matplotlib.figure.Figure at 0x7f64a114f450>"
      ]
     },
     "metadata": {},
     "output_type": "display_data"
    }
   ],
   "source": [
    "plt.hist(np.random.normal(np.mean(R), np.std(R), 10000), bins=20)\n",
    "plt.xlabel('Return')\n",
    "plt.ylabel('Frequency')\n",
    "plt.legend(['Normally Distributed Returns']);"
   ]
  },
  {
   "cell_type": "markdown",
   "metadata": {},
   "source": [
    "##Generating a Moving Average\n",
    "\n",
    "`pandas` has some nice tools to allow us to generate rolling statistics. Here's an example. Notice how there's no moving average for the first 60 days, as we don't have 60 days of data on which to generate the statistic."
   ]
  },
  {
   "cell_type": "code",
   "execution_count": 28,
   "metadata": {
    "collapsed": false
   },
   "outputs": [
    {
     "name": "stderr",
     "output_type": "stream",
     "text": [
      "/usr/local/lib/python2.7/dist-packages/ipykernel_launcher.py:2: FutureWarning: pd.rolling_mean is deprecated for Series and will be removed in a future version, replace with \n",
      "\tSeries.rolling(window=60,center=False).mean()\n",
      "  \n"
     ]
    },
    {
     "data": {
      "image/png": "[encoded data removed]",
      "text/plain": [
       "<matplotlib.figure.Figure at 0x7f6485cbb650>"
      ]
     },
     "metadata": {},
     "output_type": "display_data"
    }
   ],
   "source": [
    "# Take the average of the last 60 days at each timepoint.\n",
    "MAVG = pd.rolling_mean(X, window=60)\n",
    "plt.plot(X.index, X.values)\n",
    "plt.plot(MAVG.index, MAVG.values)\n",
    "plt.ylabel('Price')\n",
    "plt.legend(['MSFT', '60-day MAVG']);"
   ]
  },
  {
   "cell_type": "markdown",
   "metadata": {},
   "source": [
    "This presentation is for informational purposes only and does not constitute an offer to sell, a solicitation to buy, or a recommendation for any security; nor does it constitute an offer to provide investment advisory or other services by Quantopian, Inc. (\"Quantopian\"). Nothing contained herein constitutes investment advice or offers any opinion with respect to the suitability of any security, and any views expressed herein should not be taken as advice to buy, sell, or hold any security or as an endorsement of any security or company. In preparing the information contained herein, Quantopian, Inc. has not taken into account the investment needs, objectives, and financial circumstances of any particular investor. Any views expressed and data illustrated herein were prepared based upon information, believed to be reliable, available to Quantopian, Inc. at the time of publication. Quantopian makes no guarantees as to their accuracy or completeness. All information is subject to change and may quickly become unreliable for various reasons, including changes in market conditions or economic circumstances."
   ]
  }
 ],
 "metadata": {
  "kernelspec": {
   "display_name": "Python 2",
   "language": "python",
   "name": "python2"
  },
  "language_info": {
   "codemirror_mode": {
    "name": "ipython",
    "version": 2
   },
   "file_extension": ".py",
   "mimetype": "text/x-python",
   "name": "python",
   "nbconvert_exporter": "python",
   "pygments_lexer": "ipython2",
   "version": "2.7.12"
  }
 },
 "nbformat": 4,
 "nbformat_minor": 0
}